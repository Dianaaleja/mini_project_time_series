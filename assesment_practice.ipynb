{
 "cells": [
  {
   "cell_type": "markdown",
   "id": "1e8a8a6f",
   "metadata": {},
   "source": [
    "## EASY LEVEL"
   ]
  },
  {
   "cell_type": "markdown",
   "id": "6d203fa5",
   "metadata": {},
   "source": [
    "### 1. Longest Word\n",
    "\n",
    "Have the function LongestWord(sen) take the sen parameter being passed and return the longest word in the string. If there are two or more words that are the same length, return the first word from the string with that length. Ignore punctuation and assume sen will not be empty. Words may also contain numbers, for example \"Hello world123 567\""
   ]
  },
  {
   "cell_type": "code",
   "execution_count": null,
   "id": "3972fb78",
   "metadata": {},
   "outputs": [],
   "source": [
    "def LongestWord(sen):\n",
    "    \n",
    "    # your code goes here\n",
    "    nw = ''\n",
    "    for letter in sen:\n",
    "        if letter.isalpha() or letter.isnumeric():\n",
    "            nw += letter\n",
    "        else: \n",
    "            n += ' '\n",
    "    return max(nw.split(), key=len)"
   ]
  },
  {
   "cell_type": "markdown",
   "id": "d1deb0cd",
   "metadata": {},
   "source": [
    "### 2. First Factorial\n",
    "\n",
    "Have the function FirstFactorial(num) take the num parameter being passed and return the factorial of it. For example: if num = 4, then your program should return (4 * 3 * 2 * 1) = 24. For the test cases, the range will be between 1 and 18 and the input will always be an integer."
   ]
  },
  {
   "cell_type": "code",
   "execution_count": null,
   "id": "e1b5889e",
   "metadata": {},
   "outputs": [],
   "source": [
    "def FirstFactorial(num):\n",
    "\n",
    "  # code goes here\n",
    "  result = 1\n",
    "  for i in range (1, num +1):\n",
    "    result *= i\n",
    "  return result\n",
    "\n",
    "# keep this function call here \n",
    "print(FirstFactorial(int(input(5))))  # Then enter: 5\n",
    "\n",
    "#the original code is \n",
    "#print(FirstFactorial(input()))"
   ]
  },
  {
   "cell_type": "code",
   "execution_count": null,
   "id": "fad9abb6",
   "metadata": {},
   "outputs": [],
   "source": [
    "def FirstFactorial(num):\n",
    "    result = 1\n",
    "    for i in range(2, num + 1):\n",
    "        result *= i\n",
    "    return result\n",
    "\n",
    "num = int(input(\"Enter a number between 1 and 18: \"))\n",
    "if 1 <= num <= 18:\n",
    "    print(FirstFactorial(num))\n",
    "else:\n",
    "    print(\"Number out of range.\")\n"
   ]
  },
  {
   "cell_type": "markdown",
   "id": "9654f0cc",
   "metadata": {},
   "source": [
    "### 3. Questions Marks\n",
    "\n",
    "Have the function QuestionsMarks(str) take the str string parameter, which will contain single digit numbers, letters, and question marks, and check if there are exactly 3 question marks between every pair of two numbers that add up to 10. If so, then your program should return the string true, otherwise it should return the string false. If there aren't any two numbers that add up to 10 in the string, then your program should return false as well.\n",
    "\n",
    "For example: if str is \"arrb6???4xxbl5???eee5\" then your program should return true because there are exactly 3 question marks between 6 and 4, and 3 question marks between 5 and 5 at the end of the string."
   ]
  },
  {
   "cell_type": "code",
   "execution_count": null,
   "id": "95ae2e3d",
   "metadata": {},
   "outputs": [],
   "source": [
    "def QuestionsMarks(str):\n",
    "    \n",
    "    # code goes here\n",
    "    a = 11\n",
    "    b = 'false'\n",
    "    c = 0\n",
    "    \n",
    "    for i in str:\n",
    "        if i. isdigit():\n",
    "            if int(i) + a == 10:\n",
    "                if c != 0:\n",
    "                    return 'false'\n",
    "                b = 'true'\n",
    "            c = 0\n",
    "            a = int(i)\n",
    "        elif i == '?':\n",
    "            c += 1\n",
    "    return b  \n",
    "            \n",
    "                    \n",
    "# keep this function call here\n",
    "print(QuestionsMarks(input()))"
   ]
  },
  {
   "cell_type": "markdown",
   "id": "bb943a49",
   "metadata": {},
   "source": [
    "### 4. First Reverse\n",
    "\n",
    "Have the function FirstReverse(str) take the str parameter being passed and return the string in reversed order. For example: if the input string is \"Hello World and Coders\" then your program should return the string sredoC dna dlroW olleH."
   ]
  },
  {
   "cell_type": "code",
   "execution_count": null,
   "id": "fa5c81d7",
   "metadata": {},
   "outputs": [],
   "source": [
    "def FirstReverse(strParam):\n",
    "    #code goes here\n",
    "    return strParam[::-1]\n",
    "print(FirstReverse(input()))"
   ]
  },
  {
   "cell_type": "markdown",
   "id": "cbe19302",
   "metadata": {},
   "source": [
    "### 5. React Button Toggle (Node.js)\n",
    "\n",
    "We provided some simple React template code. Your goal is to modify the component so that you can properly toggle the button to switch between an ON state and an OFF state. When the button is on and it is clicked, it turns off and the text within it changes from ON to OFF and vice versa. Make use of component state for this challenge.\n",
    "\n",
    "You are free to add classes and styles, but make sure you leave the component ID's and classes provided as they are. Submit your code once it is complete and our system will validate your output."
   ]
  },
  {
   "cell_type": "code",
   "execution_count": null,
   "id": "8f211d64",
   "metadata": {},
   "outputs": [],
   "source": [
    "import React, { useState } from 'react';\n",
    "import { createRoot } from 'react-dom/client';\n",
    "\n",
    "function Toggle() {\n",
    "  function handleClick() {\n",
    "    // todo\n",
    "  }\n",
    "  \n",
    "  return (\n",
    "    <button>ON</button>\n",
    "  );\n",
    "}\n",
    "\n",
    "const container = document.getElementById('root');\n",
    "const root = createRoot(container);\n",
    "root.render(<Toggle />);"
   ]
  },
  {
   "cell_type": "markdown",
   "id": "166aa34b",
   "metadata": {},
   "source": [
    "### 6. Find Intersection\n",
    "\n",
    "Have the function FindIntersection(strArr) read the array of strings stored in strArr which will contain 2 elements: the first element will represent a list of comma-separated numbers sorted in ascending order, the second element will represent a second list of comma-separated numbers (also sorted). Your goal is to return a comma-separated string containing the numbers that occur in elements of strArr in sorted order. If there is no intersection, return the string false.\n"
   ]
  },
  {
   "cell_type": "code",
   "execution_count": null,
   "id": "5463f8a2",
   "metadata": {},
   "outputs": [],
   "source": [
    "def FindIntersection(strArr):\n",
    "    \n",
    "\n",
    "  # code goes here\n",
    "  setOne = set(strArr[0].split(','))\n",
    "  setTwo = set(strArr[1].split(','))\n",
    "  \n",
    "  result = sorted(list(setOne.intersection(setTwo)), key = lambda str: int(str))\n",
    "  return ','.join(result) if len(result) > 0 else False\n",
    "\n",
    "# keep this function call here \n",
    "print(FindIntersection(input()))"
   ]
  },
  {
   "cell_type": "markdown",
   "id": "b5e4049e",
   "metadata": {},
   "source": [
    "### 5. Codeland Username Validation\n",
    "Have the function CodelandUsernameValidation(str) take the str parameter being passed and determine if the string is a valid username according to the following rules:\n",
    "\n",
    "1. The username is between 4 and 25 characters.\n",
    "2. It must start with a letter.\n",
    "3. It can only contain letters, numbers, and the underscore character.\n",
    "4. It cannot end with an underscore character.\n",
    "\n",
    "If the username is valid then your program should return the string true, otherwise return the string false.\n"
   ]
  },
  {
   "cell_type": "code",
   "execution_count": null,
   "id": "b7621868",
   "metadata": {},
   "outputs": [],
   "source": [
    "def CodelandUsernameValidation(s):\n",
    "\n",
    "  # code goes here\n",
    "  if len(s)>4 and len(s)>25 and s[0].isalpha() and [i for i in s if i.isalnum() or i =='_']!=[] and s[-1]!= ':':\n",
    "    return True\n",
    "  else:\n",
    "    return False\n",
    "  \n",
    "# keep this function call here \n",
    "print(CodelandUsernameValidation(input()))"
   ]
  }
 ],
 "metadata": {
  "kernelspec": {
   "display_name": "base",
   "language": "python",
   "name": "python3"
  },
  "language_info": {
   "codemirror_mode": {
    "name": "ipython",
    "version": 3
   },
   "file_extension": ".py",
   "mimetype": "text/x-python",
   "name": "python",
   "nbconvert_exporter": "python",
   "pygments_lexer": "ipython3",
   "version": "undefined.undefined.undefined"
  }
 },
 "nbformat": 4,
 "nbformat_minor": 5
}
