{
 "cells": [
  {
   "cell_type": "markdown",
   "id": "1ab69037",
   "metadata": {},
   "source": [
    "🧠 Challenge 1: Frequency Counter (Easy)\n",
    "\n",
    "Problem:\n",
    "\n",
    "Write a function that takes a list of strings and returns a dictionary with the count of each word."
   ]
  },
  {
   "cell_type": "markdown",
   "id": "cbd05c1f",
   "metadata": {},
   "source": [
    "Goal: Count how many times each word appears in a list.\n",
    "\n",
    "🔍 Step-by-step:\n",
    "Create an empty dictionary.\n",
    "\n",
    "Loop through each word in the list.\n",
    "\n",
    "Add or update its count in the dictionary"
   ]
  },
  {
   "cell_type": "code",
   "execution_count": 2,
   "id": "0dcdea51",
   "metadata": {},
   "outputs": [],
   "source": [
    "def count_words(words):\n",
    "    # Your code here\n",
    "    word_count = {}\n",
    "    for word in words:\n",
    "        if word in word_count:\n",
    "            word_count[word] += 1\n",
    "        else:\n",
    "            word_count[word] = 1\n",
    "    return word_count\n",
    "    # This function takes a list of words and returns a dictionary\n",
    "\n",
    "# Example:\n",
    "# count_words([\"apple\", \"banana\", \"apple\", \"orange\", \"banana\", \"apple\"])\n",
    "# Output: {'apple': 3, 'banana': 2, 'orange': 1}\n"
   ]
  },
  {
   "cell_type": "markdown",
   "id": "5437a109",
   "metadata": {},
   "source": [
    "📊 Challenge 2: Mean and Standard Deviation (Medium)\n",
    "\n",
    "Problem:\n",
    "\n",
    "Write a function that takes a list of numbers and returns the mean and sample standard deviation."
   ]
  },
  {
   "cell_type": "markdown",
   "id": "72612f5f",
   "metadata": {},
   "source": [
    "Definitions:\n",
    "Mean = sum / count\n",
    "\n",
    "Sample standard deviation (unbiased) =\n",
    "\n",
    "1\n",
    "𝑛\n",
    "−\n",
    "1\n",
    "∑\n",
    "(\n",
    "𝑥\n",
    "𝑖\n",
    "−\n",
    "𝑥\n",
    "ˉ\n",
    ")\n",
    "2\n",
    "n−1\n",
    "1\n",
    "​\n",
    " ∑(x \n",
    "i\n",
    "​\n",
    " − \n",
    "x\n",
    "ˉ\n",
    " ) \n",
    "2\n",
    " \n",
    "​\n",
    " \n"
   ]
  },
  {
   "cell_type": "code",
   "execution_count": null,
   "id": "8aa283da",
   "metadata": {},
   "outputs": [],
   "source": [
    "import math\n",
    "\n",
    "def mean_std(numbers):\n",
    "    #your code here\n",
    "    n = len(numbers)\n",
    "    mean = sum(numbers)/n\n",
    "    variance = sum((x-mean) **2 for x in numbers) / n\n",
    "    std_dev = round(math.sqrt(variance),2)\n",
    "    return (mean, std_dev)\n",
    "\n",
    "# Example:\n",
    "# mean_std([1, 2, 3, 4, 5])\n",
    "# Output: (3.0, 1.58)\n"
   ]
  },
  {
   "cell_type": "markdown",
   "id": "091fd61e",
   "metadata": {},
   "source": [
    "🧩 Challenge 3: Moving Average (Intermediate)\n",
    "\n",
    "Problem:\n",
    "\n",
    "Implement a function to calculate the moving average of a list of numbers given a window size k.\n"
   ]
  },
  {
   "cell_type": "markdown",
   "id": "4f38324d",
   "metadata": {},
   "source": [
    "🧠 Explanation:\n",
    "A moving average smooths data by averaging over a sliding window of size k.\n",
    "Un promedio móvil suaviza los datos promediando sobre una ventana deslizante de tamaño k.\n",
    "\n",
    "Steps:\n",
    "1. Loop from 0 to len(nums) - k + 1.\n",
    "\n",
    "2. At each step, take a slice of k elements.\n",
    "\n",
    "3. Compute the average and store it."
   ]
  },
  {
   "cell_type": "code",
   "execution_count": 6,
   "id": "8f94c868",
   "metadata": {},
   "outputs": [],
   "source": [
    "def moving_average(nums, k):\n",
    "\n",
    "    #your code here\n",
    "    \n",
    "    result = []\n",
    "    for i in range(len(nums) - k + 1):\n",
    "        window = nums[i:i + k]\n",
    "        avg = sum(window) / k\n",
    "        result.append(avg)\n",
    "    return result\n",
    "    # Your code here\n",
    "\n",
    "\n",
    "# Example:\n",
    "# moving_average([10, 20, 30, 40, 50], 3)\n",
    "# Output: [20.0, 30.0, 40.0]\n"
   ]
  },
  {
   "cell_type": "markdown",
   "id": "fa7c48c0",
   "metadata": {},
   "source": [
    "What is the output of list(map(lambda x: x**2, [1, 2, 3]))?"
   ]
  },
  {
   "cell_type": "code",
   "execution_count": 5,
   "id": "8e7b0583",
   "metadata": {},
   "outputs": [
    {
     "data": {
      "text/plain": [
       "<map at 0x106f2c100>"
      ]
     },
     "execution_count": 5,
     "metadata": {},
     "output_type": "execute_result"
    }
   ],
   "source": [
    "(map(lambda x: x**2, [1, 2, 3]))"
   ]
  },
  {
   "cell_type": "markdown",
   "id": "42907819",
   "metadata": {},
   "source": [
    "Explanation:\n",
    "* map() applies the lambda function (x**2) to each element of the list [1, 2, 3].\n",
    "\n",
    "* So it computes:\n",
    "\n",
    "* 1 ** 2 = 1\n",
    "* 2 ** 2 = 4\n",
    "* 3 ** 2 = 9\n",
    "\n",
    "list(...) converts the result into a list.\n",
    "\n"
   ]
  },
  {
   "cell_type": "markdown",
   "id": "d0e15f77",
   "metadata": {},
   "source": [
    "A list comprehension version of the same operation:"
   ]
  },
  {
   "cell_type": "code",
   "execution_count": 8,
   "id": "195cc71a",
   "metadata": {},
   "outputs": [
    {
     "data": {
      "text/plain": [
       "[1, 4, 9]"
      ]
     },
     "execution_count": 8,
     "metadata": {},
     "output_type": "execute_result"
    }
   ],
   "source": [
    "[x**2 for x in [1, 2, 3]]"
   ]
  },
  {
   "cell_type": "markdown",
   "id": "78411fc9",
   "metadata": {},
   "source": [
    "| Method         | Code                              | Readability     |\n",
    "| -------------- | --------------------------------- | --------------- |\n",
    "| `map + lambda` | `list(map(lambda x: x**2, data))` | More functional |\n",
    "| List comp      | `[x**2 for x in data]`            | More Pythonic   |\n"
   ]
  },
  {
   "cell_type": "markdown",
   "id": "11d8cfa1",
   "metadata": {},
   "source": [
    "For most Python data tasks (especially in data science), list comprehensions are preferred for clarity and conciseness."
   ]
  }
 ],
 "metadata": {
  "kernelspec": {
   "display_name": "myvenv",
   "language": "python",
   "name": "python3"
  },
  "language_info": {
   "codemirror_mode": {
    "name": "ipython",
    "version": 3
   },
   "file_extension": ".py",
   "mimetype": "text/x-python",
   "name": "python",
   "nbconvert_exporter": "python",
   "pygments_lexer": "ipython3",
   "version": "3.13.3"
  }
 },
 "nbformat": 4,
 "nbformat_minor": 5
}
